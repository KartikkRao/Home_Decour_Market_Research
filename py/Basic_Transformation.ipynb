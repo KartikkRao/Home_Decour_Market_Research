{
 "cells": [
  {
   "cell_type": "code",
   "execution_count": 5,
   "metadata": {},
   "outputs": [],
   "source": [
    "import pandas as pd\n",
    "import numpy as np"
   ]
  },
  {
   "cell_type": "code",
   "execution_count": 12,
   "metadata": {},
   "outputs": [
    {
     "name": "stdout",
     "output_type": "stream",
     "text": [
      "                                        Product Name          Category  \\\n",
      "0  amazon basics Artificial Plants with Pot|Reali...  Artificial Flora   \n",
      "1  Dekorly Artificial Potted Plants, 8 Pack Artif...  Artificial Flora   \n",
      "2  perpetual Heart Shaped Gift Box with Teddy and...  Artificial Flora   \n",
      "3  ascension Plastic Red Rose for Valentine Day G...  Artificial Flora   \n",
      "4  ORORANY Forever Plastic Rose Gift For Her, Gal...  Artificial Flora   \n",
      "\n",
      "    Price  Rating Reviews  \n",
      "0  349.00     4.1   1,868  \n",
      "1  289.00     4.2  10,234  \n",
      "2  299.00     4.9      21  \n",
      "3  129.00     3.7      72  \n",
      "4  399.00     4.0     269  \n"
     ]
    }
   ],
   "source": [
    "df = pd.read_csv('amazon_products1.csv')\n",
    "\n",
    "print(df.head())"
   ]
  },
  {
   "cell_type": "code",
   "execution_count": 18,
   "metadata": {},
   "outputs": [
    {
     "name": "stdout",
     "output_type": "stream",
     "text": [
      "1149\n",
      "1149\n",
      "Product Name     object\n",
      "Category         object\n",
      "Price            object\n",
      "Rating          float64\n",
      "Reviews          object\n",
      "dtype: object\n"
     ]
    }
   ],
   "source": [
    "df_n = df\n",
    "\n",
    "print(len(df))\n",
    "print(len(df_new))\n",
    "print(df_n.dtypes)"
   ]
  },
  {
   "cell_type": "code",
   "execution_count": 26,
   "metadata": {},
   "outputs": [
    {
     "name": "stdout",
     "output_type": "stream",
     "text": [
      "1062\n"
     ]
    }
   ],
   "source": [
    "df_n = df_n.dropna()\n",
    "\n",
    "print(len(df_n))"
   ]
  },
  {
   "cell_type": "code",
   "execution_count": 19,
   "metadata": {},
   "outputs": [],
   "source": [
    "df_n['Product Name'] = df_n['Product Name'].str.strip()\n",
    "df_n['Price'] = df_n['Price'].str.strip()\n",
    "df_n['Rating'] = df_n['Rating'].astype(str).str.strip()\n",
    "df_n['Reviews'] = df_n['Reviews'].str.strip()\n",
    "\n"
   ]
  },
  {
   "cell_type": "code",
   "execution_count": 20,
   "metadata": {},
   "outputs": [
    {
     "name": "stdout",
     "output_type": "stream",
     "text": [
      "Product Name    object\n",
      "Category        object\n",
      "Price           object\n",
      "Rating          object\n",
      "Reviews         object\n",
      "dtype: object\n"
     ]
    }
   ],
   "source": [
    "print(df_n.dtypes)"
   ]
  },
  {
   "cell_type": "code",
   "execution_count": 30,
   "metadata": {},
   "outputs": [
    {
     "name": "stdout",
     "output_type": "stream",
     "text": [
      "Product Name     object\n",
      "Category         object\n",
      "Price           float64\n",
      "Rating          float64\n",
      "Reviews           int32\n",
      "dtype: object\n"
     ]
    }
   ],
   "source": [
    "df_n.loc[:, 'Price'] = df_n['Price'].replace({',': ''}, regex=True).astype(float)\n",
    "df_n.loc[:, 'Reviews'] = df_n['Reviews'].replace({',': ''}, regex=True).astype(int)\n",
    "df_n.loc[:, 'Rating'] = df_n['Rating'].astype(float)\n",
    "\n",
    "print(df_n.dtypes)"
   ]
  },
  {
   "cell_type": "code",
   "execution_count": 31,
   "metadata": {},
   "outputs": [
    {
     "name": "stdout",
     "output_type": "stream",
     "text": [
      "Empty DataFrame\n",
      "Columns: [Product Name, Category, Price, Rating, Reviews]\n",
      "Index: []\n"
     ]
    }
   ],
   "source": [
    "print(df_n[df_n['Price']==0])\n",
    "\n",
    "# No zero so we dont do anything if there was we would be doing some transformation or taking avg of product and substituting that value "
   ]
  },
  {
   "cell_type": "code",
   "execution_count": 33,
   "metadata": {},
   "outputs": [
    {
     "name": "stdout",
     "output_type": "stream",
     "text": [
      "1062\n"
     ]
    }
   ],
   "source": [
    "df_n = df_n.drop_duplicates()\n",
    "\n",
    "print(len(df_n))\n",
    "\n",
    "#No duplicates found"
   ]
  },
  {
   "cell_type": "code",
   "execution_count": 32,
   "metadata": {},
   "outputs": [],
   "source": [
    "df_n.to_csv(\"Market_search.csv\",index=False)"
   ]
  },
  {
   "cell_type": "code",
   "execution_count": null,
   "metadata": {},
   "outputs": [],
   "source": []
  }
 ],
 "metadata": {
  "kernelspec": {
   "display_name": "base",
   "language": "python",
   "name": "python3"
  },
  "language_info": {
   "codemirror_mode": {
    "name": "ipython",
    "version": 3
   },
   "file_extension": ".py",
   "mimetype": "text/x-python",
   "name": "python",
   "nbconvert_exporter": "python",
   "pygments_lexer": "ipython3",
   "version": "3.12.4"
  }
 },
 "nbformat": 4,
 "nbformat_minor": 2
}
